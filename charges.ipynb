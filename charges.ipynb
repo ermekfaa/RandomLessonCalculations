{
 "cells": [
  {
   "cell_type": "code",
   "execution_count": 6,
   "metadata": {},
   "outputs": [
    {
     "data": {
      "text/plain": [
       "(318.4713375796178, 181.00990867312427, 0.03298161986690403)"
      ]
     },
     "execution_count": 6,
     "metadata": {},
     "output_type": "execute_result"
    }
   ],
   "source": [
    "# Let's manually calculate the values\n",
    "\n",
    "# Constants\n",
    "f = 50  # Frequency in Hz\n",
    "C = 10e-6  # Capacitance in Farads\n",
    "R2 = 220  # Resistance in Ohms\n",
    "Vrms = 12  # Voltage in Volts RMS\n",
    "\n",
    "# Capacitive reactance\n",
    "Xc = 1 / (2 * 3.14 * f * C)\n",
    "\n",
    "# For parallel resistances, the formula 1/Z_total = 1/R + 1/Xc is used,\n",
    "# but we have to consider that Xc is imaginary, so we use the absolute value for calculations.\n",
    "# Calculating the impedance of R2 and Xc in parallel\n",
    "Z_total = abs(1 / (1/R2 + 1/(1j * Xc)))\n",
    "\n",
    "# Calculating the RMS current through the load using the total impedance\n",
    "I_Load_RMS = 5.97 / Z_total\n",
    "\n",
    "Xc, Z_total, I_Load_RMS"
   ]
  },
  {
   "cell_type": "code",
   "execution_count": 24,
   "metadata": {},
   "outputs": [
    {
     "data": {
      "text/plain": [
       "(-55.36328354019488, -0.4480736161291701)"
      ]
     },
     "execution_count": 24,
     "metadata": {},
     "output_type": "execute_result"
    }
   ],
   "source": [
    "import math\n",
    "\n",
    "# Verilen değerler\n",
    "Xc = 318.4713375796178  # Kapasitif reaktans\n",
    "R2 = 220  # Direnç\n",
    "\n",
    "# Faz açısı hesaplama\n",
    "phi = math.atan(-Xc / R2)\n",
    "\n",
    "# Güç faktörü hesaplama\n",
    "PF = math.cos(90)\n",
    "\n",
    "phi_degrees = math.degrees(phi)  # Radyan cinsinden faz açısını dereceye çevirme\n",
    "phi_degrees, PF"
   ]
  },
  {
   "cell_type": "code",
   "execution_count": null,
   "metadata": {},
   "outputs": [],
   "source": []
  },
  {
   "cell_type": "code",
   "execution_count": null,
   "metadata": {},
   "outputs": [],
   "source": []
  }
 ],
 "metadata": {
  "kernelspec": {
   "display_name": "Python 3",
   "language": "python",
   "name": "python3"
  },
  "language_info": {
   "codemirror_mode": {
    "name": "ipython",
    "version": 3
   },
   "file_extension": ".py",
   "mimetype": "text/x-python",
   "name": "python",
   "nbconvert_exporter": "python",
   "pygments_lexer": "ipython3",
   "version": "3.10.11"
  }
 },
 "nbformat": 4,
 "nbformat_minor": 2
}

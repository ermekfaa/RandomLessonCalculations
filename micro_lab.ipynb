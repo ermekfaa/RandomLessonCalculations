{
 "cells": [
  {
   "cell_type": "code",
   "execution_count": 1,
   "metadata": {},
   "outputs": [
    {
     "data": {
      "text/plain": [
       "(5.216745356901014, 7.2343155950861515, 13.262911924324612, 5.216745356901014)"
      ]
     },
     "execution_count": 1,
     "metadata": {},
     "output_type": "execute_result"
    }
   ],
   "source": [
    "import numpy as np\n",
    "\n",
    "# Verilen değerler\n",
    "R1 = 20e3  # 20k ohms\n",
    "R2 = 3.6e3 # 3.6k ohms\n",
    "RE = 220   # 220 ohms\n",
    "RC = 1.2e3 # 1.2k ohms\n",
    "CE = 100e-6 # 100uF\n",
    "C2 = 10e-6 # 10uF\n",
    "C1 = 10e-6 # 10uF\n",
    "\n",
    "# R1 ve R2'nin paralel kombinasyonunu hesaplayalım (Rin için)\n",
    "Rin_approx = (R1 * R2) / (R1 + R2)\n",
    "\n",
    "# Alt kesim frekansları için köşe frekansları\n",
    "# C1 ve Rin için köşe frekansı\n",
    "f_L1 = 1 / (2 * np.pi * Rin_approx * C1)\n",
    "\n",
    "# CE ve RE için köşe frekansı\n",
    "f_LE = 1 / (2 * np.pi * RE * CE)\n",
    "\n",
    "# C2 ve RC için köşe frekansı (üst kesim frekansı)\n",
    "f_H = 1 / (2 * np.pi * RC * C2)\n",
    "\n",
    "# Alt kesim frekansı en düşük köşe frekansıdır\n",
    "f_L = min(f_L1, f_LE)\n",
    "\n",
    "f_L1, f_LE, f_H, f_L"
   ]
  }
 ],
 "metadata": {
  "kernelspec": {
   "display_name": "Python 3",
   "language": "python",
   "name": "python3"
  },
  "language_info": {
   "codemirror_mode": {
    "name": "ipython",
    "version": 3
   },
   "file_extension": ".py",
   "mimetype": "text/x-python",
   "name": "python",
   "nbconvert_exporter": "python",
   "pygments_lexer": "ipython3",
   "version": "3.10.11"
  }
 },
 "nbformat": 4,
 "nbformat_minor": 2
}

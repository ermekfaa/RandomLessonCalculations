{
 "cells": [
  {
   "cell_type": "code",
   "execution_count": null,
   "metadata": {},
   "outputs": [],
   "source": [
    "# Constants for the unipolar PWM calculations\n",
    "Vdc = 15  # DC voltage source\n",
    "ma = 0.75  # Modulation index\n",
    "harmonics_indices = [1, 3, 5, 7, 9]  # First five harmonics\n",
    "\n",
    "# Function to calculate harmonic amplitude for unipolar PWM\n",
    "def unipolar_pwm_harmonic(Vdc, ma, n):\n",
    "    return (4 * Vdc * ma / (n * np.pi)) * np.sin(n * np.pi * ma / 2)\n",
    "\n",
    "# Calculate the amplitudes for the harmonics\n",
    "unipolar_harmonics = {n: unipolar_pwm_harmonic(Vdc, ma, n) for n in harmonics_indices}\n",
    "\n",
    "# Calculate the RMS value of the output voltage\n",
    "unipolar_pwm_rms = np.sqrt(sum((unipolar_harmonics[n] / np.sqrt(2))**2 for n in harmonics_indices))\n",
    "\n",
    "unipolar_harmonics, unipolar_pwm_rms"
   ]
  }
 ],
 "metadata": {
  "language_info": {
   "name": "python"
  }
 },
 "nbformat": 4,
 "nbformat_minor": 2
}

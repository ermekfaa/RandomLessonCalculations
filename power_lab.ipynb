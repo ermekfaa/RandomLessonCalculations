{
 "cells": [
  {
   "cell_type": "code",
   "execution_count": 11,
   "metadata": {},
   "outputs": [
    {
     "data": {
      "text/plain": [
       "7.323760590766794"
      ]
     },
     "execution_count": 11,
     "metadata": {},
     "output_type": "execute_result"
    }
   ],
   "source": [
    "from math import sqrt\n",
    "\n",
    "# Assumptions for simplicity (in ideal cases, the amplitude of the nth harmonic can be calculated precisely):\n",
    "# Let's assume normalized amplitudes for the first 5 odd harmonics (1st, 3rd, 5th, 7th, 9th) of a half-wave rectifier output.\n",
    "# These are illustrative values and in a real scenario, you would calculate these based on the Fourier series of the rectifier output.\n",
    "\n",
    "# Amplitudes of harmonics (normalized for demonstration)\n",
    "V1 = 8.28      # Amplitude of the 1st harmonic (fundamental)\n",
    "V3 = V1 / 3  # Amplitude of the 3rd harmonic\n",
    "V5 = V1 / 5  # Amplitude of the 5th harmonic\n",
    "V7 = V1 / 7  # Amplitude of the 7th harmonic\n",
    "V9 = V1 / 9  # Amplitude of the 9th harmonic\n",
    "\n",
    "# Calculate the RMS values for each harmonic (assuming ideal sinusoidal shapes for simplicity)\n",
    "V1_RMS = V1 / sqrt(2)\n",
    "V3_RMS = V3 / sqrt(2)\n",
    "V5_RMS = V5 / sqrt(2)\n",
    "V7_RMS = V7 / sqrt(2)\n",
    "V9_RMS = V9 / sqrt(2)\n",
    "\n",
    "# Calculate the power of harmonics (P_h) and the power of the fundamental frequency (P_1)\n",
    "P_h = V3_RMS**2 + V5_RMS**2 + V7_RMS**2 + V9_RMS**2  # Sum of the powers of the considered harmonics\n",
    "P_1 = V1_RMS**2  # Power of the fundamental frequency\n",
    "\n",
    "# Calculate THD\n",
    "THD = sqrt(P_h) / P_1\n",
    "\n",
    "THD_percentage = THD * 100  # Convert to percentage\n",
    "THD_percentage"
   ]
  }
 ],
 "metadata": {
  "kernelspec": {
   "display_name": "Python 3",
   "language": "python",
   "name": "python3"
  },
  "language_info": {
   "codemirror_mode": {
    "name": "ipython",
    "version": 3
   },
   "file_extension": ".py",
   "mimetype": "text/x-python",
   "name": "python",
   "nbconvert_exporter": "python",
   "pygments_lexer": "ipython3",
   "version": "3.10.11"
  }
 },
 "nbformat": 4,
 "nbformat_minor": 2
}
